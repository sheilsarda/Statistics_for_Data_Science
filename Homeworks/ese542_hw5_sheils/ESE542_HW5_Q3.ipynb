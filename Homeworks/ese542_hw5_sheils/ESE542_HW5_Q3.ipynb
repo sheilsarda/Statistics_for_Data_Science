{
 "cells": [
  {
   "cell_type": "code",
   "execution_count": 39,
   "metadata": {},
   "outputs": [],
   "source": [
    "import numpy as np\n",
    "from matplotlib import pyplot as plt\n",
    "from sklearn.linear_model import LogisticRegression as LogReg"
   ]
  },
  {
   "cell_type": "code",
   "execution_count": 40,
   "metadata": {
    "pycharm": {
     "name": "#%%\n"
    }
   },
   "outputs": [],
   "source": [
    "def probability_of_one(x):\n",
    "    return 0.85 if x < 0.5 else 0.15\n",
    "\n",
    "def classifier(Y_equals_one):\n",
    "    return np.random.choice([1, 0], p=[Y_equals_one, 1-Y_equals_one])\n",
    "\n",
    "vectorized_classifier = np.vectorize(classifier)\n",
    "vectorized_probability_function = np.vectorize(probability_of_one)"
   ]
  },
  {
   "cell_type": "code",
   "execution_count": 41,
   "metadata": {
    "pycharm": {
     "name": "#%%\n"
    }
   },
   "outputs": [],
   "source": [
    "n = 100\n",
    "X_train = np.random.uniform(0, 1, size=n)\n",
    "X_train = X_train.reshape(-1, 1)\n",
    "\n",
    "Y_equals_one = vectorized_probability_function(X_train)\n",
    "\n",
    "Y_train = vectorized_classifier(Y_equals_one).ravel()"
   ]
  },
  {
   "cell_type": "code",
   "execution_count": 42,
   "metadata": {
    "pycharm": {
     "name": "#%%\n"
    }
   },
   "outputs": [],
   "source": [
    "logistic_regression = LogReg()\n",
    "_ = logistic_regression.fit(X_train, Y_train)"
   ]
  },
  {
   "cell_type": "code",
   "execution_count": 43,
   "metadata": {
    "pycharm": {
     "name": "#%%\n"
    }
   },
   "outputs": [],
   "source": [
    "X_test = np.random.uniform(0, 1, size=n)\n",
    "X_test = X_test.reshape(-1, 1)\n",
    "\n",
    "Y_equals_one1 = vectorized_probability_function(X_test)\n",
    "Y_test = vectorized_classifier(Y_equals_one1).ravel()"
   ]
  },
  {
   "cell_type": "code",
   "execution_count": 44,
   "metadata": {
    "pycharm": {
     "name": "#%%\n"
    }
   },
   "outputs": [
    {
     "name": "stdout",
     "output_type": "stream",
     "text": [
      "Test Accuracy : 0.77\n"
     ]
    }
   ],
   "source": [
    "test_accuracy = logistic_regression.score(X_test, Y_test)\n",
    "print(\"Test Accuracy : \" + str(test_accuracy))\n",
    "\n"
   ]
  },
  {
   "cell_type": "code",
   "execution_count": 75,
   "metadata": {
    "pycharm": {
     "name": "#%%\n"
    }
   },
   "outputs": [
    {
     "name": "stdout",
     "output_type": "stream",
     "text": [
      "Logistic Regression Accuracy for 100 data points: 0.59\n",
      "Bayes Optimal Classifier Accuracy for 100 data points: 0.82\n",
      "\n",
      "Logistic Regression Accuracy for 1000 data points: 0.507\n",
      "Bayes Optimal Classifier Accuracy for 1000 data points: 0.833\n"
     ]
    }
   ],
   "source": [
    "def bayes_optimal_classifier_pred(data):\n",
    "    pred = []\n",
    "    for x in data:\n",
    "        if np.sum(x)>=.5:\n",
    "            if np.sum(x)>=.75:\n",
    "                pred.append(0)\n",
    "            else:\n",
    "                pred.append(1)\n",
    "        else:\n",
    "            if np.sum(x)<=.25:\n",
    "                pred.append(0)\n",
    "            else:\n",
    "                pred.append(1)\n",
    "\n",
    "    return pred\n",
    "\n",
    "print('Bayes Optimal Classifier Accuracy for 100 data points: '\n",
    "      + str(accuracy_score(bayes_optimal_classifier_pred(x_test), y_test)))"
   ]
  }
 ],
 "metadata": {
  "kernelspec": {
   "display_name": "Python 3 (ipykernel)",
   "language": "python",
   "name": "python3"
  },
  "language_info": {
   "codemirror_mode": {
    "name": "ipython",
    "version": 3
   },
   "file_extension": ".py",
   "mimetype": "text/x-python",
   "name": "python",
   "nbconvert_exporter": "python",
   "pygments_lexer": "ipython3",
   "version": "3.9.5"
  }
 },
 "nbformat": 4,
 "nbformat_minor": 1
}