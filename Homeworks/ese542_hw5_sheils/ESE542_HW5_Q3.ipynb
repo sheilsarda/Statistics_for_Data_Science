{
 "cells": [
  {
   "cell_type": "code",
   "execution_count": 72,
   "metadata": {
    "collapsed": true
   },
   "outputs": [],
   "source": [
    "import numpy as np\n",
    "from matplotlib import pyplot as plt\n",
    "from sklearn.linear_model import LogisticRegression as LogReg"
   ]
  },
  {
   "cell_type": "code",
   "execution_count": 124,
   "outputs": [],
   "source": [
    "def probability_of_one(x):\n",
    "    return 0.85 if x < 0.5 else 0.15\n",
    "\n",
    "def classifier(Y_equals_one, Y_equals_zero):\n",
    "    return 1 if Y_equals_one > Y_equals_zero else 0\n",
    "\n",
    "vectorized_classifier = np.vectorize(classifier)\n",
    "vectorized_probability_function = np.vectorize(probability_of_one)"
   ],
   "metadata": {
    "collapsed": false,
    "pycharm": {
     "name": "#%%\n"
    }
   }
  },
  {
   "cell_type": "code",
   "execution_count": 125,
   "outputs": [],
   "source": [
    "n = 100\n",
    "X_train = np.random.uniform(0, 1, size=n)\n",
    "X_train = X_train.reshape(-1, 1)\n",
    "\n",
    "Y_equals_one = vectorized_probability_function(X_train)\n",
    "Y_equals_zero = 1 - Y_equals_one\n",
    "\n",
    "Y_train = vectorized_classifier(Y_equals_one, Y_equals_zero).ravel()"
   ],
   "metadata": {
    "collapsed": false,
    "pycharm": {
     "name": "#%%\n"
    }
   }
  },
  {
   "cell_type": "code",
   "execution_count": 126,
   "outputs": [],
   "source": [
    "logistic_regression = LogReg()\n",
    "_ = logistic_regression.fit(X_train, Y_train)"
   ],
   "metadata": {
    "collapsed": false,
    "pycharm": {
     "name": "#%%\n"
    }
   }
  },
  {
   "cell_type": "code",
   "execution_count": 127,
   "outputs": [],
   "source": [
    "n = 100\n",
    "X_test = np.random.uniform(0, 1, size=n)\n",
    "X_test = X_test.reshape(-1, 1)\n",
    "\n",
    "Y_equals_one = vectorized_probability_function(X_test)\n",
    "Y_equals_zero = 1 - Y_equals_one\n",
    "\n",
    "Y_test = vectorized_classifier(Y_equals_one, Y_equals_zero).ravel()"
   ],
   "metadata": {
    "collapsed": false,
    "pycharm": {
     "name": "#%%\n"
    }
   }
  },
  {
   "cell_type": "code",
   "execution_count": 128,
   "outputs": [
    {
     "name": "stdout",
     "output_type": "stream",
     "text": [
      "Test Accuracy : 0.98\n"
     ]
    }
   ],
   "source": [
    "test_accuracy = logistic_regression.score(X_test, Y_test)\n",
    "print(\"Test Accuracy : \" + str(test_accuracy))"
   ],
   "metadata": {
    "collapsed": false,
    "pycharm": {
     "name": "#%%\n"
    }
   }
  },
  {
   "cell_type": "code",
   "execution_count": null,
   "outputs": [],
   "source": [
    "plt.rcParams['figure.figsize']=(10, 5)\n",
    "plt.plot(training_accuracy_array)\n",
    "plt.plot(test_accuracy_array)\n",
    "plt.title('Log Regression Classifier Accuracy')\n",
    "plt.ylabel('Accuracy')\n",
    "plt.xlabel('Iteration')\n",
    "plt.legend(['Train', 'Test'], loc='upper left')\n",
    "plt.grid()\n",
    "plt.show()"
   ],
   "metadata": {
    "collapsed": false,
    "pycharm": {
     "name": "#%%\n"
    }
   }
  },
  {
   "cell_type": "code",
   "execution_count": null,
   "outputs": [],
   "source": [
    "plt.plot(training_loss_array)\n",
    "plt.plot(test_loss_array)\n",
    "plt.title('Log Regression Classifier Loss')\n",
    "plt.ylabel('Loss')\n",
    "plt.xlabel('Iteration')\n",
    "plt.legend(['Train', 'Test'], loc='upper left')\n",
    "plt.grid()\n",
    "plt.show()"
   ],
   "metadata": {
    "collapsed": false,
    "pycharm": {
     "name": "#%%\n"
    }
   }
  }
 ],
 "metadata": {
  "kernelspec": {
   "display_name": "Python 3",
   "language": "python",
   "name": "python3"
  },
  "language_info": {
   "codemirror_mode": {
    "name": "ipython",
    "version": 2
   },
   "file_extension": ".py",
   "mimetype": "text/x-python",
   "name": "python",
   "nbconvert_exporter": "python",
   "pygments_lexer": "ipython2",
   "version": "2.7.6"
  }
 },
 "nbformat": 4,
 "nbformat_minor": 0
}