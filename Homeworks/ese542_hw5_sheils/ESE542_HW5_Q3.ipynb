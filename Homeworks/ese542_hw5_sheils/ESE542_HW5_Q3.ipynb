{
 "cells": [
  {
   "cell_type": "code",
   "execution_count": 22,
   "metadata": {
    "collapsed": true
   },
   "outputs": [
    {
     "ename": "SyntaxError",
     "evalue": "invalid syntax (Temp/ipykernel_20348/1176781979.py, line 3)",
     "output_type": "error",
     "traceback": [
      "\u001B[1;36m  File \u001B[1;32m\"C:\\Users\\sheil\\AppData\\Local\\Temp/ipykernel_20348/1176781979.py\"\u001B[1;36m, line \u001B[1;32m3\u001B[0m\n\u001B[1;33m    from scikit-learn.linear_model import LogisticRegression\u001B[0m\n\u001B[1;37m               ^\u001B[0m\n\u001B[1;31mSyntaxError\u001B[0m\u001B[1;31m:\u001B[0m invalid syntax\n"
     ]
    }
   ],
   "source": [
    "import numpy as np\n",
    "from matplotlib import pyplot as plt\n",
    "from scikit-learn.linear_models import LogisticRegression"
   ]
  },
  {
   "cell_type": "code",
   "execution_count": 20,
   "outputs": [],
   "source": [
    "def probability_of_one(x):\n",
    "    return 0.85 if x < 0.5 else 0.15\n",
    "\n",
    "def classifier(Y_equals_one, Y_equals_zero):\n",
    "    return 1 if Y_equals_one > Y_equals_zero else 0\n",
    "\n",
    "vectorized_classifier = np.vectorize(classifier)\n",
    "vectorized_probability_function = np.vectorize(probability_of_one)"
   ],
   "metadata": {
    "collapsed": false,
    "pycharm": {
     "name": "#%%\n"
    }
   }
  },
  {
   "cell_type": "code",
   "execution_count": 21,
   "outputs": [],
   "source": [
    "n = 100\n",
    "X_train = np.random.uniform(0, 1, size=n)\n",
    "\n",
    "Y_equals_one = vectorized_probability_function(X_train)\n",
    "Y_equals_zero = 1 - Y_equals_one\n",
    "\n",
    "Y_train = vectorized_classifier(Y_equals_one, Y_equals_zero)"
   ],
   "metadata": {
    "collapsed": false,
    "pycharm": {
     "name": "#%%\n"
    }
   }
  },
  {
   "cell_type": "code",
   "execution_count": null,
   "outputs": [],
   "source": [
    "\n",
    "\n",
    "# instantiate the model\n",
    "logreg = LogisticRegression(solver='liblinear', random_state=0)\n",
    "\n",
    "\n",
    "# fit the model\n",
    "logreg.fit(X_train, y_train)\n",
    "\n"
   ],
   "metadata": {
    "collapsed": false,
    "pycharm": {
     "name": "#%%\n"
    }
   }
  }
 ],
 "metadata": {
  "kernelspec": {
   "display_name": "Python 3",
   "language": "python",
   "name": "python3"
  },
  "language_info": {
   "codemirror_mode": {
    "name": "ipython",
    "version": 2
   },
   "file_extension": ".py",
   "mimetype": "text/x-python",
   "name": "python",
   "nbconvert_exporter": "python",
   "pygments_lexer": "ipython2",
   "version": "2.7.6"
  }
 },
 "nbformat": 4,
 "nbformat_minor": 0
}