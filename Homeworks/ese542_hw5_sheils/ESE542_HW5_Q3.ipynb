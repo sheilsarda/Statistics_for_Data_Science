{
 "cells": [
  {
   "cell_type": "code",
   "execution_count": 219,
   "metadata": {},
   "outputs": [],
   "source": [
    "import numpy as np\n",
    "from sklearn.linear_model import LogisticRegression as LogReg\n",
    "from sklearn.metrics import accuracy_score as accuracy\n",
    "from sklearn.metrics import roc_curve, roc_auc_score\n",
    "from matplotlib import pyplot as plt"
   ]
  },
  {
   "cell_type": "code",
   "execution_count": 214,
   "metadata": {
    "pycharm": {
     "name": "#%%\n"
    }
   },
   "outputs": [],
   "source": [
    "def generate_label(x):\n",
    "    prob_y_equals_one = 0.85 if x < 0.5 else 0.15\n",
    "    return np.random.choice([1, 0], p=[prob_y_equals_one, 1 - prob_y_equals_one])\n",
    "\n",
    "def bayes_optimal_classifier(x):\n",
    "    return 1 if x < .5 else 0\n",
    "\n",
    "vectorized_generate_labels = np.vectorize(generate_label)\n",
    "vectorized_bayes_classifier = np.vectorize(bayes_optimal_classifier)"
   ]
  },
  {
   "cell_type": "code",
   "execution_count": 237,
   "metadata": {
    "pycharm": {
     "name": "#%%\n"
    }
   },
   "outputs": [
    {
     "name": "stdout",
     "output_type": "stream",
     "text": [
      "===========      n =   100       ===========\n",
      "Logistic Regression Classifier Accuracy  : 0.74\n",
      "Bayes Optimal Classifier Accuracy        : 0.81\n"
     ]
    },
    {
     "data": {
      "text/plain": "<Figure size 432x288 with 1 Axes>",
      "image/png": "[encoded data removed]"
     },
     "metadata": {
      "needs_background": "light"
     },
     "output_type": "display_data"
    },
    {
     "name": "stdout",
     "output_type": "stream",
     "text": [
      "===========      n =  1000       ===========\n",
      "Logistic Regression Classifier Accuracy  : 0.832\n",
      "Bayes Optimal Classifier Accuracy        : 0.834\n"
     ]
    },
    {
     "data": {
      "text/plain": "<Figure size 432x288 with 1 Axes>",
      "image/png": "[encoded data removed]"
     },
     "metadata": {
      "needs_background": "light"
     },
     "output_type": "display_data"
    }
   ],
   "source": [
    "n_array = [100, 1000]\n",
    "\n",
    "for n in n_array:\n",
    "    X_train = np.random.uniform(0, 1, size=n).reshape(-1, 1)\n",
    "    Y_train = vectorized_generate_labels(X_train).ravel()\n",
    "\n",
    "    logistic_regression = LogReg()\n",
    "    _ = logistic_regression.fit(X_train, Y_train)\n",
    "\n",
    "    X_test = np.random.uniform(0, 1, size=n).reshape(-1, 1)\n",
    "    Y_test = vectorized_generate_labels(X_test).ravel()\n",
    "\n",
    "    Y_bayes_test = vectorized_bayes_classifier(X_test)\n",
    "    Y_pred = logistic_regression.predict(X_test)\n",
    "\n",
    "    print(\"===========      n = {:5d}       ===========\".format(n))\n",
    "    print(\"Logistic Regression Classifier Accuracy  : \" + str(accuracy(Y_test, Y_pred)))\n",
    "    print(\"Bayes Optimal Classifier Accuracy        : \" + str(accuracy(Y_test, Y_bayes_test)))\n",
    "\n",
    "    Y_pred_probability = logistic_regression.predict_proba(X_test)[::,1]\n",
    "    false_positive_rate, true_positive_rate, _ = roc_curve(Y_test,  Y_pred_probability)\n",
    "    auc = roc_auc_score(Y_test, Y_pred_probability)\n",
    "    plt.plot(false_positive_rate,true_positive_rate,label=\"Y = 1, AUC = \"+str(auc))\n",
    "    plt.legend(loc=4)\n",
    "    plt.show()\n"
   ]
  }
 ],
 "metadata": {
  "kernelspec": {
   "display_name": "Python 3 (ipykernel)",
   "language": "python",
   "name": "python3"
  },
  "language_info": {
   "codemirror_mode": {
    "name": "ipython",
    "version": 3
   },
   "file_extension": ".py",
   "mimetype": "text/x-python",
   "name": "python",
   "nbconvert_exporter": "python",
   "pygments_lexer": "ipython3",
   "version": "3.9.5"
  }
 },
 "nbformat": 4,
 "nbformat_minor": 1
}