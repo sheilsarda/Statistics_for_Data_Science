{
 "cells": [
  {
   "cell_type": "code",
   "execution_count": 45,
   "metadata": {
    "collapsed": true
   },
   "outputs": [],
   "source": [
    "import numpy as np\n",
    "from matplotlib import pyplot as plt"
   ]
  },
  {
   "cell_type": "code",
   "execution_count": 46,
   "outputs": [],
   "source": [
    "raw_img_data = np.load('data.npy')\n",
    "label_data = np.load('label.npy')"
   ],
   "metadata": {
    "collapsed": false,
    "pycharm": {
     "name": "#%%\n"
    }
   }
  },
  {
   "cell_type": "code",
   "execution_count": 47,
   "outputs": [],
   "source": [
    "normalized_img_data = raw_img_data / 255.0\n",
    "normalized_imshow_array = normalized_img_data.reshape(14780, 28, 28)"
   ],
   "metadata": {
    "collapsed": false,
    "pycharm": {
     "name": "#%%\n"
    }
   }
  },
  {
   "cell_type": "code",
   "execution_count": 48,
   "outputs": [
    {
     "data": {
      "text/plain": "<Figure size 720x360 with 8 Axes>",
      "image/png": "[encoded data removed]"
     },
     "metadata": {
      "needs_background": "light"
     },
     "output_type": "display_data"
    }
   ],
   "source": [
    "index = np.random.randint(0, len(normalized_imshow_array), size=8)\n",
    "i = 0\n",
    "\n",
    "fig, axs = plt.subplots(2, 4)\n",
    "for r in range(2):\n",
    "    for c in range(4):\n",
    "        axs[r, c].imshow(normalized_imshow_array[index[i]].reshape(28, 28))\n",
    "        axs[r, c].set_title(str(label_data[index[i]]))\n",
    "        axs[r, c].axis('off')\n",
    "        i+=1"
   ],
   "metadata": {
    "collapsed": false,
    "pycharm": {
     "name": "#%%\n"
    }
   }
  },
  {
   "cell_type": "code",
   "execution_count": 49,
   "outputs": [],
   "source": [
    "relabeled_data = np.where(label_data == 1, -1, label_data)\n",
    "relabeled_data = np.where(relabeled_data == 0, 1, relabeled_data)"
   ],
   "metadata": {
    "collapsed": false,
    "pycharm": {
     "name": "#%%\n"
    }
   }
  },
  {
   "cell_type": "code",
   "execution_count": 50,
   "outputs": [
    {
     "name": "stdout",
     "output_type": "stream",
     "text": [
      "original frequency counts\n",
      "[[   0 6903]\n",
      " [   1 7877]]\n",
      "after relabeling (1 --> -1, 0 --> 1)\n",
      "[[  -1 7877]\n",
      " [   1 6903]]\n"
     ]
    }
   ],
   "source": [
    "(unique, counts) = np.unique(relabeled_data, return_counts=True)\n",
    "frequencies_relabeled = np.asarray((unique, counts)).T\n",
    "\n",
    "(unique, counts) = np.unique(label_data, return_counts=True)\n",
    "frequencies_original = np.asarray((unique, counts)).T\n",
    "\n",
    "print(\"original frequency counts\")\n",
    "print(frequencies_original)\n",
    "print(\"after relabeling (1 --> -1, 0 --> 1)\")\n",
    "print(frequencies_relabeled)"
   ],
   "metadata": {
    "collapsed": false,
    "pycharm": {
     "name": "#%%\n"
    }
   }
  },
  {
   "cell_type": "code",
   "execution_count": 51,
   "outputs": [
    {
     "name": "stdout",
     "output_type": "stream",
     "text": [
      "80-20 Test-Train Split = 11824-2956\n"
     ]
    }
   ],
   "source": [
    "train_num_samples = int(0.8 * len(relabeled_data))\n",
    "test_num_samples = len(relabeled_data) - train_num_samples\n",
    "print(\"80-20 Test-Train Split = \" + str(train_num_samples) + \"-\" + str(test_num_samples))\n",
    "\n",
    "train_indices = np.random.randint(0, len(relabeled_data), size=train_num_samples)\n",
    "test_indices = np.random.randint(0, len(relabeled_data), size=test_num_samples)"
   ],
   "metadata": {
    "collapsed": false,
    "pycharm": {
     "name": "#%%\n"
    }
   }
  },
  {
   "cell_type": "code",
   "execution_count": 52,
   "outputs": [
    {
     "name": "stdout",
     "output_type": "stream",
     "text": [
      "Size of Train vs Test = 11824-2956\n"
     ]
    }
   ],
   "source": [
    "X_train, X_test = normalized_img_data[train_indices], normalized_img_data[test_indices]\n",
    "Y_train, Y_test = relabeled_data[train_indices], relabeled_data[test_indices]\n",
    "\n",
    "print(\"Size of Train vs Test = \" + str(len(X_train)) + \"-\" + str(len(X_test)))"
   ],
   "metadata": {
    "collapsed": false,
    "pycharm": {
     "name": "#%%\n"
    }
   }
  },
  {
   "cell_type": "code",
   "execution_count": 53,
   "outputs": [],
   "source": [
    "mu, sigma = 0, 1\n",
    "d = 28*28\n",
    "beta_0 = np.random.normal(mu, sigma, 1)[0]\n",
    "beta_1 = np.random.normal(mu, sigma, d)"
   ],
   "metadata": {
    "collapsed": false,
    "pycharm": {
     "name": "#%%\n"
    }
   }
  },
  {
   "cell_type": "code",
   "execution_count": 54,
   "outputs": [],
   "source": [
    "def loss_function(beta_0, beta_1, X, Y):\n",
    "    \"\"\"\n",
    "    :param beta_0, beta_1: Logistic Regression coefficients\n",
    "    :return: Loss over Training set (X and Y are globals)\n",
    "    \"\"\"\n",
    "    loss_function_sum = 0.0\n",
    "    m = len(X)\n",
    "    for i in range(m):\n",
    "        loss_function_sum += np.log(1 + np.exp(-Y[i] * (beta_0 + np.sum(beta_1 @ X[i, :]))))\n",
    "    loss_function_result = loss_function_sum / m\n",
    "    return loss_function_result"
   ],
   "metadata": {
    "collapsed": false,
    "pycharm": {
     "name": "#%%\n"
    }
   }
  },
  {
   "cell_type": "code",
   "execution_count": 55,
   "outputs": [],
   "source": [
    "def compute_gradients(beta_0, beta_1, X, Y):\n",
    "    \"\"\"\n",
    "    :return: Gradient of beta_0, Gradient of beta_1\n",
    "    \"\"\"\n",
    "    d_beta_0_sum = 0.0\n",
    "    d_beta_1_sum = 0.0\n",
    "    m = len(X)\n",
    "    for i in range(m):\n",
    "        exponent_term = np.exp(-Y[i] * (beta_0 + beta_1.T @ X[i, :]))\n",
    "        d_beta_0_sum +=  Y[i] * exponent_term / (1 + exponent_term)\n",
    "        d_beta_1_sum +=  Y[i] * X[i] * exponent_term / (1 + exponent_term)\n",
    "\n",
    "    d_beta_0 = (-1.0 / m) * d_beta_0_sum\n",
    "    d_beta_1 = (-1.0 / m) * d_beta_1_sum\n",
    "    return d_beta_0, d_beta_1"
   ],
   "metadata": {
    "collapsed": false,
    "pycharm": {
     "name": "#%%\n"
    }
   }
  },
  {
   "cell_type": "code",
   "execution_count": 56,
   "outputs": [],
   "source": [
    "def evaluate_accuracy(beta_0, beta_1, X, Y):\n",
    "    correct = 0\n",
    "    for i in range(len(X)):\n",
    "        predicted_label_prob = 1.0 / (1.0 + np.exp(Y[i] * (beta_0 + beta_1.T @ X[i])))\n",
    "        prediction = 1 if predicted_label_prob > 0.5 else -1\n",
    "        label = Y[i]\n",
    "        is_equal = np.array_equal(prediction, label)\n",
    "        if is_equal:\n",
    "            correct += 1\n",
    "\n",
    "    return (correct/len(X))"
   ],
   "metadata": {
    "collapsed": false,
    "pycharm": {
     "name": "#%%\n"
    }
   }
  },
  {
   "cell_type": "code",
   "execution_count": null,
   "outputs": [
    {
     "name": "stdout",
     "output_type": "stream",
     "text": [
      "[ 0] Accuracy on test set: 0.5474\n",
      "[ 5] Accuracy on test set: 0.5240\n",
      "[ 10] Accuracy on test set: 0.5189\n",
      "[ 15] Accuracy on test set: 0.5298\n",
      "[ 20] Accuracy on test set: 0.5332\n"
     ]
    }
   ],
   "source": [
    "num_iterations = 50\n",
    "learning_rate = 0.05\n",
    "\n",
    "training_loss_array, training_accuracy_array = [], []\n",
    "test_loss_array, test_accuracy_array = [], []\n",
    "for iter in range(num_iterations):\n",
    "\n",
    "    loss = loss_function(beta_0, beta_1, X_train, Y_train)\n",
    "    d_beta_0, d_beta_1 = compute_gradients(beta_0, beta_1, X_train, Y_train)\n",
    "\n",
    "    beta_0 = beta_0 - learning_rate * d_beta_0\n",
    "    beta_1 = beta_1 - learning_rate * d_beta_1\n",
    "\n",
    "    train_accuracy = evaluate_accuracy(beta_0, beta_1, X_train, Y_train)\n",
    "    test_accuracy = evaluate_accuracy(beta_0, beta_1, X_test, Y_test)\n",
    "    test_loss = loss_function(beta_0, beta_1, X_test, Y_test)\n",
    "\n",
    "    training_loss_array.append(loss)\n",
    "    training_accuracy_array.append(train_accuracy)\n",
    "    test_loss_array.append(test_loss)\n",
    "    test_accuracy_array.append(test_accuracy)\n",
    "\n",
    "    if(iter % 5 == 0):\n",
    "        print(\"[{: 2d}] Accuracy on test set: {:.4f}\".format(iter, test_accuracy))"
   ],
   "metadata": {
    "collapsed": false,
    "pycharm": {
     "name": "#%%\n",
     "is_executing": true
    }
   }
  },
  {
   "cell_type": "code",
   "execution_count": null,
   "outputs": [],
   "source": [
    "plt.rcParams['figure.figsize']=(10, 5)\n",
    "plt.plot(training_accuracy_array)\n",
    "plt.plot(test_accuracy_array)\n",
    "plt.title('Log Regression Classifier Accuracy')\n",
    "plt.ylabel('Accuracy')\n",
    "plt.xlabel('Iteration')\n",
    "plt.legend(['Train', 'Test'], loc='upper left')\n",
    "plt.grid()\n",
    "plt.show()"
   ],
   "metadata": {
    "collapsed": false,
    "pycharm": {
     "name": "#%%\n",
     "is_executing": true
    }
   }
  },
  {
   "cell_type": "code",
   "execution_count": null,
   "outputs": [],
   "source": [
    "plt.plot(training_loss_array)\n",
    "plt.plot(test_loss_array)\n",
    "plt.title('Log Regression Classifier Loss')\n",
    "plt.ylabel('Loss')\n",
    "plt.xlabel('Iteration')\n",
    "plt.legend(['Train', 'Test'], loc='upper left')\n",
    "plt.grid()\n",
    "plt.show()"
   ],
   "metadata": {
    "collapsed": false,
    "pycharm": {
     "name": "#%%\n",
     "is_executing": true
    }
   }
  }
 ],
 "metadata": {
  "kernelspec": {
   "display_name": "Python 3",
   "language": "python",
   "name": "python3"
  },
  "language_info": {
   "codemirror_mode": {
    "name": "ipython",
    "version": 2
   },
   "file_extension": ".py",
   "mimetype": "text/x-python",
   "name": "python",
   "nbconvert_exporter": "python",
   "pygments_lexer": "ipython2",
   "version": "2.7.6"
  }
 },
 "nbformat": 4,
 "nbformat_minor": 0
}