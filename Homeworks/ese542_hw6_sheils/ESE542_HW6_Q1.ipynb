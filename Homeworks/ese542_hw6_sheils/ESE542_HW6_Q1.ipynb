{
 "cells": [
  {
   "cell_type": "code",
   "execution_count": 27,
   "metadata": {
    "collapsed": true
   },
   "outputs": [],
   "source": [
    "import numpy as np\n",
    "from sklearn.preprocessing import StandardScaler as StandardScaler\n",
    "from sklearn.decomposition import PCA as PCA\n",
    "import pandas as pd"
   ]
  },
  {
   "cell_type": "code",
   "execution_count": 28,
   "metadata": {
    "collapsed": false,
    "pycharm": {
     "name": "#%%\n"
    }
   },
   "outputs": [],
   "source": [
    "X_array = [0, 1, 2, 2, 3, 3, 4]\n",
    "Y_array = [1, 1, 1, 3, 2, 3, 5]\n",
    "raw_data = np.column_stack((X_array, Y_array))"
   ]
  },
  {
   "cell_type": "markdown",
   "metadata": {
    "collapsed": false,
    "pycharm": {
     "name": "#%% md\n"
    }
   },
   "source": [
    "### (a) PCA after standardizing data"
   ]
  },
  {
   "cell_type": "code",
   "execution_count": 29,
   "metadata": {
    "collapsed": false,
    "pycharm": {
     "name": "#%%\n"
    }
   },
   "outputs": [],
   "source": [
    "scaler = StandardScaler()\n",
    "_ = scaler.fit(raw_data)\n",
    "standardized_data = scaler.transform(raw_data)"
   ]
  },
  {
   "cell_type": "code",
   "execution_count": 42,
   "metadata": {
    "collapsed": false,
    "pycharm": {
     "name": "#%%\n"
    }
   },
   "outputs": [
    {
     "name": "stdout",
     "output_type": "stream",
     "text": [
      "First Two Components of Standardized PCA\n",
      "[[ 0.70710678  0.70710678]\n",
      " [ 0.70710678 -0.70710678]]\n"
     ]
    }
   ],
   "source": [
    "standardized_pca = PCA(n_components=2)\n",
    "_ = standardized_pca.fit(standardized_data)\n",
    "print(\"First Two Components of Standardized PCA\")\n",
    "print(standardized_pca.components_)"
   ]
  },
  {
   "cell_type": "code",
   "execution_count": 43,
   "metadata": {
    "collapsed": false,
    "pycharm": {
     "name": "#%%\n"
    }
   },
   "outputs": [
    {
     "name": "stdout",
     "output_type": "stream",
     "text": [
      "    PC 1   PC 2  Standardized X  Standardized Y\n",
      "0 -1.873 -0.560          -1.721          -0.928\n",
      "1 -1.305  0.008          -0.918          -0.928\n",
      "2 -0.738  0.575          -0.115          -0.928\n",
      "3  0.284 -0.446          -0.115           0.516\n",
      "4  0.341  0.633           0.688          -0.206\n",
      "5  0.851  0.122           0.688           0.516\n",
      "6  2.440 -0.331           1.491           1.960\n"
     ]
    }
   ],
   "source": [
    "standardized_pca_transformed_data = standardized_pca.fit_transform(standardized_data)\n",
    "standardized_pca_dataframe = pd.DataFrame(data = standardized_pca_transformed_data\n",
    "             , columns = ['PC 1', 'PC 2'])\n",
    "standardized_pca_dataframe[\"Standardized X\"] = standardized_data[:, 0]\n",
    "standardized_pca_dataframe[\"Standardized Y\"] = standardized_data[:, 1]\n",
    "print(standardized_pca_dataframe)"
   ]
  },
  {
   "cell_type": "code",
   "execution_count": 48,
   "outputs": [
    {
     "name": "stdout",
     "output_type": "stream",
     "text": [
      "[[-1.87 -0.56]\n",
      " [-1.31  0.01]\n",
      " [-0.74  0.58]\n",
      " [ 0.28 -0.45]\n",
      " [ 0.34  0.63]\n",
      " [ 0.85  0.12]\n",
      " [ 2.44 -0.33]]\n"
     ]
    }
   ],
   "source": [
    "print(np.matmul(standardized_data, standardized_pca.components_).round(2))"
   ],
   "metadata": {
    "collapsed": false,
    "pycharm": {
     "name": "#%%\n"
    }
   }
  },
  {
   "cell_type": "markdown",
   "metadata": {
    "collapsed": false,
    "pycharm": {
     "name": "#%% md\n"
    }
   },
   "source": [
    "### (b) PCA without standardizing data"
   ]
  },
  {
   "cell_type": "code",
   "execution_count": 35,
   "metadata": {
    "collapsed": false,
    "pycharm": {
     "name": "#%%\n"
    }
   },
   "outputs": [
    {
     "name": "stdout",
     "output_type": "stream",
     "text": [
      "First Two Components of Raw PCA\n",
      "[[ 0.65908697  0.75206673]\n",
      " [ 0.75206673 -0.65908697]]\n"
     ]
    }
   ],
   "source": [
    "raw_data_pca = PCA(n_components=2)\n",
    "_ = raw_data_pca.fit(raw_data)\n",
    "print(\"First Two Components of Raw PCA\")\n",
    "print(raw_data_pca.components_)"
   ]
  },
  {
   "cell_type": "code",
   "execution_count": 36,
   "outputs": [
    {
     "name": "stdout",
     "output_type": "stream",
     "text": [
      "    PC 1   PC 2  Raw X  Raw Y\n",
      "0 -2.379 -0.764      0      1\n",
      "1 -1.720 -0.012      1      1\n",
      "2 -1.061  0.740      2      1\n",
      "3  0.443 -0.578      2      3\n",
      "4  0.350  0.833      3      2\n",
      "5  1.102  0.174      3      3\n",
      "6  3.265 -0.392      4      5\n"
     ]
    }
   ],
   "source": [
    "raw_pca_transformed_data = raw_data_pca.fit_transform(raw_data)\n",
    "raw_pca_dataframe = pd.DataFrame(data = raw_pca_transformed_data\n",
    "             , columns = ['PC 1', 'PC 2'])\n",
    "raw_pca_dataframe[\"Raw X\"] = raw_data[:, 0]\n",
    "raw_pca_dataframe[\"Raw Y\"] = raw_data[:, 1]\n",
    "print(raw_pca_dataframe)"
   ],
   "metadata": {
    "collapsed": false,
    "pycharm": {
     "name": "#%%\n"
    }
   }
  },
  {
   "cell_type": "code",
   "execution_count": 46,
   "outputs": [
    {
     "name": "stdout",
     "output_type": "stream",
     "text": [
      "[[ 0.75 -0.66]\n",
      " [ 1.41  0.09]\n",
      " [ 2.07  0.85]\n",
      " [ 3.57 -0.47]\n",
      " [ 3.48  0.94]\n",
      " [ 4.23  0.28]\n",
      " [ 6.4  -0.29]]\n"
     ]
    }
   ],
   "source": [
    "print(np.matmul(raw_data, raw_data_pca.components_).round(2))"
   ],
   "metadata": {
    "collapsed": false,
    "pycharm": {
     "name": "#%%\n"
    }
   }
  },
  {
   "cell_type": "markdown",
   "source": [
    "Since manually multiplying the Principal Components with the Raw Dataset does not yield the same result as the sklearn PCA model, we know that PCA is not scale invariant.\n",
    "\n",
    "Therefore, it is best to standardize the data before the procedure."
   ],
   "metadata": {
    "collapsed": false,
    "pycharm": {
     "name": "#%% md\n"
    }
   }
  }
 ],
 "metadata": {
  "kernelspec": {
   "display_name": "Python 3",
   "language": "python",
   "name": "python3"
  },
  "language_info": {
   "codemirror_mode": {
    "name": "ipython",
    "version": 3
   },
   "file_extension": ".py",
   "mimetype": "text/x-python",
   "name": "python",
   "nbconvert_exporter": "python",
   "pygments_lexer": "ipython3",
   "version": "3.9.5"
  }
 },
 "nbformat": 4,
 "nbformat_minor": 0
}