{
 "cells": [
  {
   "cell_type": "code",
   "execution_count": 26,
   "metadata": {
    "collapsed": true
   },
   "outputs": [],
   "source": [
    "import numpy as np\n",
    "from matplotlib import pyplot as plt\n",
    "from sklearn.preprocessing import StandardScaler as StandardScaler\n",
    "from sklearn.decomposition import PCA as PCA\n",
    "import pandas as pd"
   ]
  },
  {
   "cell_type": "code",
   "execution_count": 27,
   "outputs": [],
   "source": [
    "X_array = [0, 1, 2, 2, 3, 3, 4]\n",
    "Y_array = [1, 1, 1, 3, 2, 3, 5]\n",
    "raw_data = np.column_stack((X_array, Y_array))"
   ],
   "metadata": {
    "collapsed": false,
    "pycharm": {
     "name": "#%%\n"
    }
   }
  },
  {
   "cell_type": "markdown",
   "source": [
    "### (a) PCA after standardizing data"
   ],
   "metadata": {
    "collapsed": false,
    "pycharm": {
     "name": "#%% md\n"
    }
   }
  },
  {
   "cell_type": "code",
   "execution_count": 37,
   "outputs": [
    {
     "data": {
      "text/plain": "   Standardized X  Standardized Y\n0       -1.720618       -0.928279\n1       -0.917663       -0.928279\n2       -0.114708       -0.928279\n3       -0.114708        0.515711\n4        0.688247       -0.206284\n5        0.688247        0.515711\n6        1.491202        1.959700",
      "text/html": "<div>\n<style scoped>\n    .dataframe tbody tr th:only-of-type {\n        vertical-align: middle;\n    }\n\n    .dataframe tbody tr th {\n        vertical-align: top;\n    }\n\n    .dataframe thead th {\n        text-align: right;\n    }\n</style>\n<table border=\"1\" class=\"dataframe\">\n  <thead>\n    <tr style=\"text-align: right;\">\n      <th></th>\n      <th>Standardized X</th>\n      <th>Standardized Y</th>\n    </tr>\n  </thead>\n  <tbody>\n    <tr>\n      <th>0</th>\n      <td>-1.720618</td>\n      <td>-0.928279</td>\n    </tr>\n    <tr>\n      <th>1</th>\n      <td>-0.917663</td>\n      <td>-0.928279</td>\n    </tr>\n    <tr>\n      <th>2</th>\n      <td>-0.114708</td>\n      <td>-0.928279</td>\n    </tr>\n    <tr>\n      <th>3</th>\n      <td>-0.114708</td>\n      <td>0.515711</td>\n    </tr>\n    <tr>\n      <th>4</th>\n      <td>0.688247</td>\n      <td>-0.206284</td>\n    </tr>\n    <tr>\n      <th>5</th>\n      <td>0.688247</td>\n      <td>0.515711</td>\n    </tr>\n    <tr>\n      <th>6</th>\n      <td>1.491202</td>\n      <td>1.959700</td>\n    </tr>\n  </tbody>\n</table>\n</div>"
     },
     "execution_count": 37,
     "metadata": {},
     "output_type": "execute_result"
    }
   ],
   "source": [
    "scaler = StandardScaler()\n",
    "_ = scaler.fit(raw_data)\n",
    "standardized_data = scaler.transform(raw_data)\n",
    "pd.DataFrame(standardized_data, columns = ['Standardized X', 'Standardized Y'])"
   ],
   "metadata": {
    "collapsed": false,
    "pycharm": {
     "name": "#%%\n"
    }
   }
  },
  {
   "cell_type": "code",
   "execution_count": 38,
   "outputs": [
    {
     "name": "stdout",
     "output_type": "stream",
     "text": [
      "[3.55410431 1.16976175]\n"
     ]
    }
   ],
   "source": [
    "standardized_pca = PCA(n_components=2)\n",
    "_ = standardized_pca.fit(standardized_data)\n",
    "print(standardized_pca.singular_values_)"
   ],
   "metadata": {
    "collapsed": false,
    "pycharm": {
     "name": "#%%\n"
    }
   }
  },
  {
   "cell_type": "code",
   "execution_count": 39,
   "outputs": [
    {
     "data": {
      "text/plain": "       PC 1      PC 2\n0 -1.873053 -0.560268\n1 -1.305278  0.007507\n2 -0.737503  0.575282\n3  0.283552 -0.445773\n4  0.340799  0.632529\n5  0.851327  0.122002\n6  2.440157 -0.331278",
      "text/html": "<div>\n<style scoped>\n    .dataframe tbody tr th:only-of-type {\n        vertical-align: middle;\n    }\n\n    .dataframe tbody tr th {\n        vertical-align: top;\n    }\n\n    .dataframe thead th {\n        text-align: right;\n    }\n</style>\n<table border=\"1\" class=\"dataframe\">\n  <thead>\n    <tr style=\"text-align: right;\">\n      <th></th>\n      <th>PC 1</th>\n      <th>PC 2</th>\n    </tr>\n  </thead>\n  <tbody>\n    <tr>\n      <th>0</th>\n      <td>-1.873053</td>\n      <td>-0.560268</td>\n    </tr>\n    <tr>\n      <th>1</th>\n      <td>-1.305278</td>\n      <td>0.007507</td>\n    </tr>\n    <tr>\n      <th>2</th>\n      <td>-0.737503</td>\n      <td>0.575282</td>\n    </tr>\n    <tr>\n      <th>3</th>\n      <td>0.283552</td>\n      <td>-0.445773</td>\n    </tr>\n    <tr>\n      <th>4</th>\n      <td>0.340799</td>\n      <td>0.632529</td>\n    </tr>\n    <tr>\n      <th>5</th>\n      <td>0.851327</td>\n      <td>0.122002</td>\n    </tr>\n    <tr>\n      <th>6</th>\n      <td>2.440157</td>\n      <td>-0.331278</td>\n    </tr>\n  </tbody>\n</table>\n</div>"
     },
     "execution_count": 39,
     "metadata": {},
     "output_type": "execute_result"
    }
   ],
   "source": [
    "pca_transformed_data = standardized_pca.fit_transform(standardized_data)\n",
    "principalDf = pd.DataFrame(data = pca_transformed_data\n",
    "             , columns = ['PC 1', 'PC 2'])\n",
    "principalDf"
   ],
   "metadata": {
    "collapsed": false,
    "pycharm": {
     "name": "#%%\n"
    }
   }
  },
  {
   "cell_type": "markdown",
   "source": [
    "### (b) PCA without standardizing data"
   ],
   "metadata": {
    "collapsed": false,
    "pycharm": {
     "name": "#%% md\n"
    }
   }
  },
  {
   "cell_type": "code",
   "execution_count": null,
   "outputs": [],
   "source": [],
   "metadata": {
    "collapsed": false,
    "pycharm": {
     "name": "#%%\n"
    }
   }
  }
 ],
 "metadata": {
  "kernelspec": {
   "display_name": "Python 3",
   "language": "python",
   "name": "python3"
  },
  "language_info": {
   "codemirror_mode": {
    "name": "ipython",
    "version": 2
   },
   "file_extension": ".py",
   "mimetype": "text/x-python",
   "name": "python",
   "nbconvert_exporter": "python",
   "pygments_lexer": "ipython2",
   "version": "2.7.6"
  }
 },
 "nbformat": 4,
 "nbformat_minor": 0
}