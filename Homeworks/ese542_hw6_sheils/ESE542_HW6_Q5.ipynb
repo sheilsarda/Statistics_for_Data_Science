{
 "cells": [
  {
   "cell_type": "code",
   "execution_count": 2,
   "metadata": {},
   "outputs": [],
   "source": [
    "from sklearn.datasets import fetch_lfw_people\n",
    "from sklearn.decomposition import PCA\n",
    "import numpy as np\n",
    "from matplotlib import pyplot as plt\n",
    "import pandas as pd"
   ]
  },
  {
   "cell_type": "code",
   "execution_count": null,
   "metadata": {
    "pycharm": {
     "is_executing": true
    }
   },
   "outputs": [],
   "source": [
    "faces_dataset = fetch_lfw_people(min_faces_per_person = 60)\n",
    "print(\"Shape of Dataset: {}\".format(faces_dataset.data.shape))\n",
    "\n",
    "index = np.random.randint(0, faces_dataset.data.shape[0], size=16)\n",
    "plt.rcParams['figure.figsize']=(10, 10)\n",
    "\n",
    "i = 0\n",
    "fig, axs = plt.subplots(4, 4)\n",
    "for r in range(4):\n",
    "    for c in range(4):\n",
    "        axs[r, c].imshow(faces_dataset.images[index[i]], cmap=plt.cm.bone)\n",
    "        axs[r, c].set_title(str(faces_dataset.target_names[faces_dataset.target[index[i]]]))\n",
    "        axs[r, c].axis('off')\n",
    "        i+=1"
   ]
  },
  {
   "cell_type": "markdown",
   "metadata": {},
   "source": [
    "\n",
    "### PCA on the dataset to find the first 150 components, using randomized PCA from `sklearn`"
   ]
  },
  {
   "cell_type": "code",
   "execution_count": null,
   "metadata": {
    "pycharm": {
     "is_executing": true
    }
   },
   "outputs": [],
   "source": [
    "faces_pca = PCA(n_components=150, whiten=True, svd_solver='randomized')\n",
    "_ = faces_pca.fit(faces_dataset.data)"
   ]
  },
  {
   "cell_type": "markdown",
   "metadata": {},
   "source": [
    "### Eigenfaces associated with first 25 principal components"
   ]
  },
  {
   "cell_type": "code",
   "execution_count": null,
   "metadata": {
    "pycharm": {
     "is_executing": true
    }
   },
   "outputs": [],
   "source": [
    "pca_eigenfaces = faces_pca.components_\n",
    "plt.rcParams['figure.figsize']=(10, 10)\n",
    "\n",
    "i = 0\n",
    "fig, axs = plt.subplots(5, 5)\n",
    "for r in range(5):\n",
    "    for c in range(5):\n",
    "        axs[r, c].imshow(pca_eigenfaces[i], cmap=plt.cm.bone)\n",
    "        axs[r, c].set_title(str(\"Eigenface {}\").format(i))\n",
    "        axs[r, c].axis('off')\n",
    "        i+=1\n"
   ]
  },
  {
   "cell_type": "code",
   "execution_count": null,
   "outputs": [],
   "source": [],
   "metadata": {
    "collapsed": false,
    "pycharm": {
     "name": "#%%\n"
    }
   }
  }
 ],
 "metadata": {
  "interpreter": {
   "hash": "916dbcbb3f70747c44a77c7bcd40155683ae19c65e1c03b4aa3499c5328201f1"
  },
  "kernelspec": {
   "display_name": "Python 3.9.5 64-bit",
   "language": "python",
   "name": "python3"
  },
  "language_info": {
   "codemirror_mode": {
    "name": "ipython",
    "version": 3
   },
   "file_extension": ".py",
   "mimetype": "text/x-python",
   "name": "python",
   "nbconvert_exporter": "python",
   "pygments_lexer": "ipython3",
   "version": "3.9.5"
  },
  "orig_nbformat": 4
 },
 "nbformat": 4,
 "nbformat_minor": 2
}